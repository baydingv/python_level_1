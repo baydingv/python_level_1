{
 "cells": [
  {
   "cell_type": "code",
   "execution_count": 11,
   "metadata": {},
   "outputs": [
    {
     "name": "stdout",
     "output_type": "stream",
     "text": [
      "[(1, 3, 0), (0, 4, 4), (8, 1, 2)]\n",
      "[[1, 3, 0], [0, 4, 4], [8, 1, 2]]\n",
      "[[1, 3, 0], [0, 4, 4], [8, 1, 2]]\n"
     ]
    }
   ],
   "source": [
    "# Задание-1:\n",
    "# Матрицы в питоне реализуются в виде вложенных списков:\n",
    "# Пример. Дано:\n",
    "matrix = [[1, 0, 8],\n",
    "          [3, 4, 1],\n",
    "          [0, 4, 2]]\n",
    "          \n",
    "# Выполнить поворот (транспонирование) матрицы\n",
    "# Пример. Результат:\n",
    "# matrix_rotate = [[1, 3, 0],\n",
    "#                  [0, 4, 4],\n",
    "#                  [8, 1, 2]]\n",
    "\n",
    "# Суть сложности hard: Решите задачу в одну строку\n",
    "# 1)\n",
    "print(list(zip(matrix[0],matrix[1],matrix[2])))\n",
    "# 2)\n",
    "print([[e[i] for e in matrix] for i in range(len(matrix))])\n",
    "# 3)\n",
    "print([[matrix[j][i] for j in range(len(matrix))] for i in range(len(matrix))])"
   ]
  },
  {
   "cell_type": "code",
   "execution_count": 49,
   "metadata": {},
   "outputs": [
    {
     "name": "stdout",
     "output_type": "stream",
     "text": [
      "99879 : prod=  40824 , ind= 364\n"
     ]
    }
   ],
   "source": [
    "##### Задание-2:\n",
    "# Найдите наибольшее произведение пяти последовательных цифр в 1000-значном числе.\n",
    "# Выведите произведение и индекс смещения первого числа последовательных 5-ти цифр.\n",
    "# Пример 1000-значного числа:\n",
    "number = \"\"\"\n",
    "73167176531330624919225119674426574742355349194934\n",
    "96983520312774506326239578318016984801869478851843\n",
    "85861560789112949495459501737958331952853208805511\n",
    "12540698747158523863050715693290963295227443043557\n",
    "66896648950445244523161731856403098711121722383113\n",
    "62229893423380308135336276614282806444486645238749\n",
    "30358907296290491560440772390713810515859307960866\n",
    "70172427121883998797908792274921901699720888093776\n",
    "65727333001053367881220235421809751254540594752243\n",
    "52584907711670556013604839586446706324415722155397\n",
    "53697817977846174064955149290862569321978468622482\n",
    "83972241375657056057490261407972968652414535100474\n",
    "82166370484403199890008895243450658541227588666881\n",
    "16427171479924442928230863465674813919123162824586\n",
    "17866458359124566529476545682848912883142607690042\n",
    "24219022671055626321111109370544217506941658960408\n",
    "07198403850962455444362981230987879927244284909188\n",
    "84580156166097919133875499200524063689912560717606\n",
    "05886116467109405077541002256983155200055935729725\n",
    "71636269561882670428252483600823257530420752963450\"\"\"\n",
    "\n",
    "def prod_of_string(si):\n",
    "    return reduce(lambda pr,x: pr*int(x), si, 1)\n",
    "\n",
    "str_num = ''.join(number.splitlines())\n",
    "max_prod,ind_max = 0,-1\n",
    "for i in range(len(str_num)-5):\n",
    "    prod_i = prod_of_string(str_num[i:i+5])\n",
    "    if prod_i > max_prod: max_prod,ind_max = prod_i,i\n",
    "        \n",
    "print(str_num[ind_max:ind_max+5],': prod= ', prod_of_string(str_num[ind_max:ind_max+5]),', ind=', ind_max)"
   ]
  },
  {
   "cell_type": "code",
   "execution_count": 44,
   "metadata": {},
   "outputs": [
    {
     "name": "stdout",
     "output_type": "stream",
     "text": [
      "give 2 int: 1 4\n",
      "give 2 int: 2 1\n",
      "give 2 int: 3 5\n",
      "give 2 int: 4 8\n",
      "give 2 int: 5 2\n",
      "give 2 int: 6 7\n",
      "give 2 int: 7 3\n",
      "give 2 int: 8 6\n",
      "No\n"
     ]
    }
   ],
   "source": [
    "# Задание-3 (Ферзи):\n",
    "# Известно, что на доске 8×8 можно расставить 8 ферзей так, чтобы они не били\n",
    "# друг друга. Вам дана расстановка 8 ферзей на доске.\n",
    "# Определите, есть ли среди них пара бьющих друг друга.\n",
    "# Программа получает на вход восемь пар чисел,\n",
    "# каждое число от 1 до 8 — координаты 8 ферзей.\n",
    "# Если ферзи не бьют друг друга, выведите слово NO, иначе выведите YES.\n",
    "\n",
    "def query(r,a):\n",
    "    global xy_i\n",
    "    if r: return True\n",
    "    if a[0]==xy_i[0] or a[1]==xy_i[1] or abs(a[0]-xy_i[0])==abs(a[1]-xy_i[1]): return True\n",
    "    return False\n",
    "\n",
    "xy = []\n",
    "for _ in range(8):\n",
    "    xy_i = input('give 2 int: ')\n",
    "    x,y = int(xy_i[0]), int(xy_i[2])\n",
    "    xy.append([x,y])\n",
    "    \n",
    "res = False\n",
    "for i in range(7):\n",
    "    xy_i = xy[i]\n",
    "    res = reduce(query, xy[i+1:], res)\n",
    "    \n",
    "if res: print('Yes')\n",
    "else:   print('No')"
   ]
  }
 ],
 "metadata": {
  "kernelspec": {
   "display_name": "Python 3",
   "language": "python",
   "name": "python3"
  },
  "language_info": {
   "codemirror_mode": {
    "name": "ipython",
    "version": 3
   },
   "file_extension": ".py",
   "mimetype": "text/x-python",
   "name": "python",
   "nbconvert_exporter": "python",
   "pygments_lexer": "ipython3",
   "version": "3.6.5"
  }
 },
 "nbformat": 4,
 "nbformat_minor": 2
}
