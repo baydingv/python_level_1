{
 "cells": [
  {
   "cell_type": "code",
   "execution_count": 1,
   "metadata": {},
   "outputs": [
    {
     "name": "stdout",
     "output_type": "stream",
     "text": [
      "['mt', 'm', 'mcq', 'iry', 'hh', 'xq', 'd', 'l', 's', 'kg', 'm', 's', 'v', 'fbmx', 'aysm', 'p', 'ujalp', 'z', 'fw', 'qwksr', 'eip', 'l', 'ecl', 'w', 'okt', 'lf', 'snawvj', 'hfgew', 'z', 'f', 't', 'yd', 'a', 'px', 'j', 'g', 'v', 'oumes', 'vj', 'os', 'fuh', 'u', 'w', 'l', 'dk', 'jf', 'qn', 'xoois', 'ux', 'hyj', 'a', 'wdo', 'nsll', 'ng', 'lmkp', 'lq', 'x', 'qqqg', 'd', 's', 'vqpp', 'fy', 'j', 'apz', 'rfinzzs', 't', 'clwbf', 'zytm', 'g', 'zxv', 'kd', 'a', 'fs', 'f', 'chg', 's', 'n', 'n', 'etek', 'u', 'lu', 'sdelz', 'g', 'zuwiimqk', 'py', 'z', 'y', 'k', 'kdy', 'v', 'jd', 'y', 'fk', 'a', 'bf', 'vz', 'r', 's', 'p', 'tdq', 'lt', 'qc', 'vl', 'z', 'o', 'n', 'w', 'kapx', 'qn', 'f', 'whch', 'd', 'b', 'u', 'b', 'rw', 'y', 'x', 'ctsz', 'j', 'nnda', 'kc', 'm', 'j', 'e', 'dev', 'h', 'h', 'qbj', 'u', 'r', 'yw', 'kmj', 'h', 'ofa', 'puespa', 's', 'qs', 'ex', 'q', 's', 'a', 'cgns', 's', 'xiihws', 'd', 'i', 'a', 'n', 'f', 't', 'h', 'qrvp', 'ii', 'c', 'r', 'k', 'p', 'flw', 'v', 'z', 'tm', 'lm', 'ndi', 'b', 'z', 'k', 'eu', 'kyj', 'si', 'sn', 'ti', 'trb', 'unur', 'g', 'i', 'j', 't', 'n', 'j', 'e', 'i', 'lxn', 'kqf', 'b', 'f', 'u', 'm', 'p', 'kqigx', 'kr', 'pp', 'e', 'xb', 'vq', 'mls', 'yzen', 'o', 'xy', 'vbnh', 'u', 'q', 'jvihu', 'sfn', 'fptv', 'lh', 'hy', 'wx', 'nq', 's', 'd', 'vnuy', 'he', 'p', 'e', 'o', 'i', 'a', 'i', 'gs', 'r', 'e', 'o', 'l', 'v', 'n', 'g', 'mys', 'e', 'n', 'zvd', 'yle', 'yln', 'f', 'j', 'ntltignb', 'oi', 'z', 'w', 'i', 'wycdl', 'fy', 'mk', 'q', 'w', 'rx', 'c']\n",
      "\n",
      "['mt', 'm', 'mcq', 'iry', 'hh', 'xq', 'd', 'l', 's', 'kg', 'm', 's', 'v', 'fbmx', 'aysm', 'p', 'ujalp', 'z', 'fw', 'qwksr', 'eip', 'l', 'ecl', 'w', 'okt', 'lf', 'snawvj', 'hfgew', 'z', 'f', 't', 'yd', 'a', 'px', 'j', 'g', 'v', 'oumes', 'vj', 'os', 'fuh', 'u', 'w', 'l', 'dk', 'jf', 'qn', 'xoois', 'ux', 'hyj', 'a', 'wdo', 'nsll', 'ng', 'lmkp', 'lq', 'x', 'qqqg', 'd', 's', 'vqpp', 'fy', 'j', 'apz', 'rfinzzs', 't', 'clwbf', 'zytm', 'g', 'zxv', 'kd', 'a', 'fs', 'f', 'chg', 's', 'n', 'n', 'etek', 'u', 'lu', 'sdelz', 'g', 'zuwiimqk', 'py', 'z', 'y', 'k', 'kdy', 'v', 'jd', 'y', 'fk', 'a', 'bf', 'vz', 'r', 's', 'p', 'tdq', 'lt', 'qc', 'vl', 'z', 'o', 'n', 'w', 'kapx', 'qn', 'f', 'whch', 'd', 'b', 'u', 'b', 'rw', 'y', 'x', 'ctsz', 'j', 'nnda', 'kc', 'm', 'j', 'e', 'dev', 'h', 'h', 'qbj', 'u', 'r', 'yw', 'kmj', 'h', 'ofa', 'puespa', 's', 'qs', 'ex', 'q', 's', 'a', 'cgns', 's', 'xiihws', 'd', 'i', 'a', 'n', 'f', 't', 'h', 'qrvp', 'ii', 'c', 'r', 'k', 'p', 'flw', 'v', 'z', 'tm', 'lm', 'ndi', 'b', 'z', 'k', 'eu', 'kyj', 'si', 'sn', 'ti', 'trb', 'unur', 'g', 'i', 'j', 't', 'n', 'j', 'e', 'i', 'lxn', 'kqf', 'b', 'f', 'u', 'm', 'p', 'kqigx', 'kr', 'pp', 'e', 'xb', 'vq', 'mls', 'yzen', 'o', 'xy', 'vbnh', 'u', 'q', 'jvihu', 'sfn', 'fptv', 'lh', 'hy', 'wx', 'nq', 's', 'd', 'vnuy', 'he', 'p', 'e', 'o', 'i', 'a', 'i', 'gs', 'r', 'e', 'o', 'l', 'v', 'n', 'g', 'mys', 'e', 'n', 'zvd', 'yle', 'yln', 'f', 'j', 'ntltignb', 'oi', 'z', 'w', 'i', 'wycdl', 'fy', 'mk', 'q', 'w', 'rx', 'c']\n"
     ]
    }
   ],
   "source": [
    "# Задание-1:\n",
    "# Вывести символы в нижнем регистре, которые находятся вокруг\n",
    "# 1 или более символов в верхнем регистре.\n",
    "# Т.е. из строки \"mtMmEZUOmcq\" нужно получить ['mt', 'm', 'mcq']\n",
    "# Решить задачу двумя способами: с помощью re и без.\n",
    "import re\n",
    "line = 'mtMmEZUOmcqWiryMQhhTxqKdSTKCYEJlEZCsGAMkgAYEOmHBSQsSUHKvSfbmxULaysmNO'\\\n",
    "       'GIPHpEMujalpPLNzRWXfwHQqwksrFeipEUlTLeclMwAoktKlfUBJHPsnawvjPhfgewVzK'\\\n",
    "       'TUfSYtBydXaVIpxWjNKgXANvIoumesCSSvjEGRJosUfuhRRDUuTQwLlJJJDdkVjfSAHqn'\\\n",
    "       'LxooisBDWuxIhyjJaXDYwdoVPnsllMngNlmkpYOlqXEFIxPqqqgAWdJsOvqppOfyIVjXa'\\\n",
    "       'pzGOrfinzzsNMtBIOclwbfRzytmDgEFUzxvZGkdOaQYLVBfsGSAfJMchgBWAsGnBnWete'\\\n",
    "       'kUTVuPluKRMQsdelzBgLzuwiimqkFKpyQRzOUyHkXRkdyIEBvTjdByCfkVIAQaAbfCvzQ'\\\n",
    "       'WrMMsYpLtdqRltXPqcSMXJIvlBzKoQnSwPFkapxGqnZCVFfKRLUIGBLOwhchWCdJbRuXb'\\\n",
    "       'JrwTRNyAxDctszKjSnndaFkcBZmJZWjUeYMdevHhBJMBSShDqbjAuDGTTrSXZywYkmjCC'\\\n",
    "       'EUZShGofaFpuespaZWLFNIsOqsIRLexWqTXsOaScgnsUKsJxiihwsCdBViEQBHQaOnLfB'\\\n",
    "       'tQQShTYHFqrvpVFiiEFMcIFTrTkIBpGUflwTvAzMUtmSQQZGHlmQKJndiAXbIzVkGSeuT'\\\n",
    "       'SkyjIGsiWLALHUCsnQtiOtrbQOQunurZgHFiZjWtZCEXZCnZjLeMiFlxnPkqfJFbCfKCu'\\\n",
    "       'UJmGYJZPpRBFNLkqigxFkrRAppYRXeSCBxbGvqHmlsSZMWSVQyzenWoGxyGPvbnhWHuXB'\\\n",
    "       'qHFjvihuNGEEFsfnMXTfptvIOlhKhyYwxLnqOsBdGvnuyEZIheApQGOXWeXoLWiDQNJFa'\\\n",
    "       'XiUWgsKQrDOeZoNlZNRvHnLgCmysUeKnVJXPFIzvdDyleXylnKBfLCjLHntltignbQoiQ'\\\n",
    "       'zTYwZAiRwycdlHfyHNGmkNqSwXUrxGc'\n",
    "\n",
    "#1)\n",
    "p1 = re.compile(\"[A-Z]+\")\n",
    "r1 = (p1.sub(',',line)).split(',')\n",
    "if not len(r1[ 0]): r1 = r1[1:]\n",
    "if not len(r1[-1]): r1 = r1[:-1]\n",
    "print(r1)\n",
    "print()\n",
    "\n",
    "\n",
    "#2)\n",
    "lst = list(line)\n",
    "lst = [x if ord(x) > 91 else ' ' for x in lst]\n",
    "lst =''.join(lst)\n",
    "lst = lst.split(None)\n",
    "\n",
    "print(lst)"
   ]
  },
  {
   "cell_type": "code",
   "execution_count": 2,
   "metadata": {},
   "outputs": [
    {
     "name": "stdout",
     "output_type": "stream",
     "text": [
      "['AY', 'NOGI', 'P', 'UBJ', 'K', 'C', 'EG', 'RR', 'S', 'B', 'XE', 'G', 'B', 'U', 'KR', 'I', 'VI', 'SMX', 'ZC', 'T', 'CCEU', 'ZWLF', 'I', 'E', 'SQQZ', 'Q', 'WLALH', 'Q', 'Y', 'SZMWS', 'NGE', 'M', 'E', 'H']\n",
      "\n",
      "['AY', 'NOGI', 'P', 'UBJ', 'K', 'C', 'EG', 'RR', 'S', 'B', 'XE', 'G', 'B', 'U', 'KR', 'I', 'VI', 'SMX', 'ZC', 'T', 'CCEU', 'ZWLF', 'I', 'E', 'SQQZ', 'Q', 'WLALH', 'Q', 'Y', 'SZMWS', 'NGE', 'M', 'E', 'H']\n"
     ]
    }
   ],
   "source": [
    "# Задание-2:\n",
    "# Вывести символы в верхнем регистре, слева от которых находятся\n",
    "# два символа в нижнем регистре, а справа - два символа в верхнем регистре.\n",
    "# Т.е. из строки\n",
    "# \"GAMkgAYEOmHBSQsSUHKvSfbmxULaysmNOGIPHpEMujalpPLNzRWXfwHQqwksrFeipEUlTLec\"\n",
    "# нужно получить список строк: ['AY', 'NOGI', 'P']\n",
    "# Решить задачу двумя способами: с помощью re и без.\n",
    "p2 = re.compile(\"[a-z]{2,}[A-Z]{3,}\")\n",
    "\n",
    "def fun1(el):\n",
    "    NL,NR = 0,0\n",
    "    for s in el:\n",
    "        if ord(s)>91: NL += 1\n",
    "        else:         NR += 1\n",
    "    if NL > 1 and NR > 2: return True\n",
    "    return False\n",
    "\n",
    "def fun2(el):\n",
    "    while ord(el[0])>91:\n",
    "        el = el[1:]\n",
    "    el = el[:-2]\n",
    "    return el\n",
    "\n",
    "line_2 = 'mtMmEZUOmcqWiryMQhhTxqKdSTKCYEJlEZCsGAMkgAYEOmHBSQsSUHKvSfbmxULaysm'\\\n",
    "       'NOGIPHpEMujalpPLNzRWXfwHQqwksrFeipEUlTLeclMwAoktKlfUBJHPsnawvjPhfgewV'\\\n",
    "       'fzKTUfSYtBydXaVIpxWjNKgXANvIoumesCSSvjEGRJosUfuhRRDUuTQwLlJJJDdkVjfSA'\\\n",
    "       'HqnLxooisBDWuxIhyjJaXDYwdoVPnsllMngNlmkpYOlqXEFIxPqqqgAWdJsOvqppOfyIV'\\\n",
    "       'jXapzGOrfinzzsNMtBIOclwbfRzytmDgEFUzxvZGkdOaQYLVBfsGSAfJMchgBWAsGnBnW'\\\n",
    "       'etekUTVuPluKRMQsdelzBgLzuwiimqkFKpyQRzOUyHkXRkdyIEBvTjdByCfkVIAQaAbfC'\\\n",
    "       'vzQWrMMsYpLtdqRltXPqcSMXJIvlBzKoQnSwPFkapxGqnZCVFfKRLUIGBLOwhchWCdJbR'\\\n",
    "       'uXbJrwTRNyAxDctszKjSnndaFkcBZmJZWjUeYMdevHhBJMBSShDqbjAuDGTTrSXZywYkm'\\\n",
    "       'jCCEUZShGofaFpuespaZWLFNIsOqsIRLexWqTXsOaScgnsUKsJxiihwsCdBViEQBHQaOn'\\\n",
    "       'LfBtQQShTYHFqrvpVFiiEFMcIFTrTkIBpGUflwTvAzMUtmSQQZGHlmQKJndiAXbIzVkGS'\\\n",
    "       'euTSkyjIGsiWLALHUCsnQtiOtrbQOQunurZgHFiZjWtZCEXZCnZjLeMiFlxnPkqfJFbCf'\\\n",
    "       'KCuUJmGYJZPpRBFNLkqigxFkrRAppYRXeSCBxbGvqHmlsSZMWSVQyzenWoGxyGPvbnhWH'\\\n",
    "       'uXBqHFjvihuNGEEFsfnMXTfptvIOlhKhyYwxLnqOsBdGvnuyEZIheApQGOXWeXoLWiDQN'\\\n",
    "       'JFaXiUWgsKQrDOeZoNlZNRvHnLgCmysUeKnVJXPFIzvdDyleXylnKBfLCjLHntltignbQ'\\\n",
    "       'oiQzTYwZAiRwycdlHfyHNGmkNqSwXUrxGC'\n",
    "\n",
    "#1)\n",
    "r2 = p2.findall(line_2)\n",
    "r2 = [p1.findall(e)[0][:-2] for e in r2]\n",
    "print(r2)\n",
    "print()\n",
    "\n",
    "#2)\n",
    "lst  = list(line_2)\n",
    "# составим массив индексов мест, куда вставить запятые так, чтобы получились слова,\n",
    "# у которых слева стоят прописные буквы, справа Заглавные\n",
    "nl=[]\n",
    "ST = 1\n",
    "if ord(lst[0])>91: ST = 0\n",
    "for i in range(1,len(lst)):\n",
    "    if ord(lst[i])<91:\n",
    "        ST = 1\n",
    "    elif ST:\n",
    "        nl.append(i)\n",
    "        ST = 0\n",
    "\n",
    "# начиная с последнего индекса, вставляем разделители\n",
    "for i in nl[::-1]:\n",
    "    lst.insert(i,',')\n",
    "\n",
    "st  = ''.join(lst)\n",
    "lst = st.split(',')\n",
    "\n",
    "# отфильтровываем, оставляя только те слова, у которых есть хотя бы 2 прописные буквы и хотя бы 3 заглавные\n",
    "lst = list(filter(fun1,lst))\n",
    "# у оставшися слов отщепляем все прописные и 3 заглавные справа\n",
    "lst = list(   map(fun2,lst))\n",
    "\n",
    "print(lst)"
   ]
  },
  {
   "cell_type": "code",
   "execution_count": 3,
   "metadata": {},
   "outputs": [
    {
     "name": "stdout",
     "output_type": "stream",
     "text": [
      "set file name for VeryLongInteger: qqq\n",
      "000\n"
     ]
    }
   ],
   "source": [
    "# Задание-3:\n",
    "# Напишите скрипт, заполняющий указанный файл (самостоятельно задайте имя файла)\n",
    "# произвольными целыми цифрами, в результате в файле должно быть\n",
    "# 2500-значное произвольное число.\n",
    "# Найдите и выведите самую длинную последовательность одинаковых цифр\n",
    "# в вышезаполненном файле.\n",
    "import random\n",
    "namef = input('set file name for VeryLongInteger: ')\n",
    "fo = open(namef,'wt')\n",
    "[fo.write(str(random.randint(0,9))) for _ in range(2500)]\n",
    "fo.close()\n",
    "fi = open(namef,'r')\n",
    "s = fi.readline()\n",
    "fi.close()\n",
    "\n",
    "ci,cn,ni,nn = '','',0,0\n",
    "for i in range(len(s)):\n",
    "    c = s[i]\n",
    "    if c == ci:\n",
    "        ni += 1\n",
    "    else:\n",
    "        if ni > nn:\n",
    "            nn = ni\n",
    "            cn = ci\n",
    "        ni = 1\n",
    "        ci = c\n",
    "res = cn*nn\n",
    "print(res)"
   ]
  }
 ],
 "metadata": {
  "kernelspec": {
   "display_name": "Python 3",
   "language": "python",
   "name": "python3"
  },
  "language_info": {
   "codemirror_mode": {
    "name": "ipython",
    "version": 3
   },
   "file_extension": ".py",
   "mimetype": "text/x-python",
   "name": "python",
   "nbconvert_exporter": "python",
   "pygments_lexer": "ipython3",
   "version": "3.6.5"
  }
 },
 "nbformat": 4,
 "nbformat_minor": 2
}
