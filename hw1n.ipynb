{
 "cells": [
  {
   "cell_type": "code",
   "execution_count": 2,
   "metadata": {},
   "outputs": [
    {
     "name": "stdout",
     "output_type": "stream",
     "text": [
      "задача 1\n",
      "введи целое число: 76\n",
      "...v1:\n",
      "max: 7\n",
      "...v2:\n",
      "max: 7\n"
     ]
    }
   ],
   "source": [
    "__author__ = 'Байдин Григорий Васильевич'\n",
    "\n",
    "# Задача-1: Дано произвольное целое число, вывести самую большую цифру этого числа.\n",
    "# Например, дается x = 58375.\n",
    "# Нужно вывести максимальную цифру в данном числе, т.е. 8.\n",
    "# Подразумевается, что мы не знаем это число заранее.\n",
    "# Число приходит в виде целого беззнакового.\n",
    "# Подсказки:\n",
    "# * постарайтесь решить задачу с применением арифметики и цикла while;\n",
    "# * при желании и понимании решите задачу с применением цикла for.\n",
    "s = input(u\"задача 1\\nвведи целое число: \")\n",
    "i = int(s)\n",
    "i_max = 0\n",
    "print(\"...v1:\")\n",
    "while i>0:\n",
    "    ii = i % 10\n",
    "    if ii > i_max: i_max = ii\n",
    "    i = i // 10\n",
    "so = (\"max: %d\")%(i_max); print(so)\n",
    "\n",
    "\n",
    "print(\"...v2:\")\n",
    "i_max = 0\n",
    "for c in s:\n",
    "    ii = int(c)\n",
    "    if ii > i_max: i_max = ii\n",
    "so = (\"max: %d\")%(i_max); print(so)"
   ]
  },
  {
   "cell_type": "code",
   "execution_count": 3,
   "metadata": {},
   "outputs": [
    {
     "name": "stdout",
     "output_type": "stream",
     "text": [
      "задача 2\n",
      "введи целое число a: 8888\n",
      "введи целое число b: -9999\n",
      "сначала  : a= 8888, b= -9999\n",
      "потом    : a= -9999, b= 8888\n",
      "и еще    : a= 8888, b= -9999\n",
      "и еще-еще: a= -9999, b= 8888\n"
     ]
    }
   ],
   "source": [
    "# Задача-2: Исходные значения двух переменных запросить у пользователя.\n",
    "# Поменять значения переменных местами. Вывести новые значения на экран.\n",
    "# Решите задачу, используя только две переменные.\n",
    "# Подсказки:\n",
    "# * постарайтесь сделать решение через действия над числами;\n",
    "# * при желании и понимании воспользуйтесь синтаксисом кортежей Python.\n",
    "\n",
    "sa = input(u\"задача 2\\nвведи целое число a: \")\n",
    "sb = input(u\"введи целое число b: \")\n",
    "ia = int(sa)\n",
    "ib = int(sb)\n",
    "so=(\"сначала  : a= %d, b= %d\")%(ia,ib); print(so)\n",
    "ia = ia + ib; ib = ia - ib; ia = ia - ib\n",
    "so=(\"потом    : a= %d, b= %d\")%(ia,ib); print(so)\n",
    "(ia,ib) = (ib,ia)\n",
    "so=(\"и еще    : a= %d, b= %d\")%(ia,ib); print(so)\n",
    "ia,ib = ib,ia\n",
    "so=(\"и еще-еще: a= %d, b= %d\")%(ia,ib); print(so)"
   ]
  },
  {
   "cell_type": "code",
   "execution_count": 1,
   "metadata": {},
   "outputs": [
    {
     "name": "stdout",
     "output_type": "stream",
     "text": [
      "задача 3\n",
      "а=  65\n",
      "b=  77\n",
      "c=  0\n",
      "x1= 0.000000e+00, x2= -1.184615\n"
     ]
    }
   ],
   "source": [
    "# Задача-3: Напишите программу, вычисляющую корни квадратного уравнения вида\n",
    "# ax² + bx + c = 0.\n",
    "# Коэффициенты уравнения вводятся пользователем.\n",
    "# Для вычисления квадратного корня воспользуйтесь функцией sqrt() модуля math:\n",
    "# import math\n",
    "# math.sqrt(4) - вычисляет корень числа 4\n",
    "import math\n",
    "\n",
    "a = float(input(\"задача 3\\nа=  \"))\n",
    "b = float(input(\"b=  \"))\n",
    "c = float(input(\"c=  \"))\n",
    "D = b*b - 4*a*c\n",
    "if D<0:\n",
    "    print(\"корней нет\")\n",
    "else:\n",
    "    x1 = (-b + math.sqrt(D))/(2*a)\n",
    "    x2 = (-b - math.sqrt(D))/(2*a)\n",
    "    so = (\"x1= %e, x2= %f\")%(x1,x2)\n",
    "    print(so)"
   ]
  },
  {
   "cell_type": "code",
   "execution_count": null,
   "metadata": {},
   "outputs": [],
   "source": []
  }
 ],
 "metadata": {
  "kernelspec": {
   "display_name": "Python 3",
   "language": "python",
   "name": "python3"
  },
  "language_info": {
   "codemirror_mode": {
    "name": "ipython",
    "version": 3
   },
   "file_extension": ".py",
   "mimetype": "text/x-python",
   "name": "python",
   "nbconvert_exporter": "python",
   "pygments_lexer": "ipython3",
   "version": "3.6.5"
  }
 },
 "nbformat": 4,
 "nbformat_minor": 2
}
