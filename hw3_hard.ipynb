{
 "cells": [
  {
   "cell_type": "code",
   "execution_count": 23,
   "metadata": {},
   "outputs": [
    {
     "name": "stdout",
     "output_type": "stream",
     "text": [
      "-  17/20\n",
      "2 1/2\n",
      "1 5/36\n",
      "0\n"
     ]
    }
   ],
   "source": [
    "# Задание-1:\n",
    "# Написать программу, выполняющую операции (сложение и вычитание) с простыми дробями.\n",
    "# Дроби вводятся и выводятся в формате:\n",
    "# n x/y ,где n - целая часть, x - числитель, у - знаменатель.\n",
    "# Дроби могут быть отрицательные и не иметь целой части, или иметь только целую часть.\n",
    "import math\n",
    "def simplify(A,B):\n",
    "    for i in range(2,A+1):\n",
    "        if A%i == 0 and B%i == 0: A,B = A/i, B/i\n",
    "    return [A,B]\n",
    "    \n",
    "\n",
    "def decode_number(s):\n",
    "    s.strip()\n",
    "    if not '/' in s:\n",
    "        return [int(s),0,1]\n",
    "    elif ' ' in s:\n",
    "        s_i = s.split(' ')\n",
    "        A = int(s_i[0])\n",
    "        s = s_i[1].strip()\n",
    "    else:\n",
    "        A = 0\n",
    "    s_i = s.split('/')\n",
    "    [B,C] = simplify(int(s_i[0]), int(s_i[1]))\n",
    "    return [A,B,C]\n",
    "\n",
    "\n",
    "def incode(r,C1,C2):\n",
    "    if r == 0: return '0'\n",
    "    ret = []\n",
    "    if r<0: ret.append('- '); r = -r\n",
    "    A = int(r)\n",
    "    if A>0: ret.append(str(A)); r = r % A\n",
    "    iC = C1*C2\n",
    "    iB = int(math.ceil(r*iC))\n",
    "    [iB,iC] = simplify(iB,iC)\n",
    "    if iB>0: ret.append(''.join([' ',str(int(iB)),'/',str(int(iC))]))\n",
    "    return ''.join(ret)\n",
    "        \n",
    "def hard_3_1(stri):\n",
    "    if type(stri) != str: print('arg must be a string!')\n",
    "    else: \n",
    "        s1,s2,A1,A2,B1,B2,C1,C2 = 1,1,0,0,0,0,1,1\n",
    "        stri.strip()               # выделяем 1й знак\n",
    "        if   stri.startswith('+'):\n",
    "            stri = stri[1:]\n",
    "        elif stri.startswith('-'):\n",
    "            stri = stri[1:]\n",
    "            s1 = -1\n",
    "        else: pass\n",
    "        \n",
    "        if '+' in stri:             # выделяем 2й знак и запись 2х чисел\n",
    "            str1 = stri.split('+')\n",
    "        elif '-' in stri:\n",
    "            str1 = stri.split('-')\n",
    "            s2 = -1\n",
    "        else: \n",
    "            print('not find any operations')\n",
    "            return None\n",
    "        \n",
    "        [A1,B1,C1] = decode_number(str1[0].strip())\n",
    "        [A2,B2,C2] = decode_number(str1[1].strip())\n",
    "        \n",
    "        r1 = A1 + B1/float(C1)\n",
    "        r2 = A2 + B2/float(C2)\n",
    "        rr = s1*r1 + s2*r2\n",
    "        \n",
    "        return incode(rr,C1,C2)\n",
    "        \n",
    "print(hard_3_1('-3 1/4 + 2 2/5'))        \n",
    "print(hard_3_1('1 1/2 + 1'))        \n",
    "print(hard_3_1('-1 30/72 + 2 40/72'))        \n",
    "print(hard_3_1('1 1/2 - 1 1/2'))        \n",
    "        "
   ]
  },
  {
   "cell_type": "code",
   "execution_count": 71,
   "metadata": {
    "scrolled": true
   },
   "outputs": [
    {
     "name": "stdout",
     "output_type": "stream",
     "text": [
      "Петр Алексеев 18857\n",
      "Василий Иванов 25200\n",
      "Матвей Бурин 47600\n",
      "Василий Сидоров 15250\n",
      "Петр Дурин 10000\n",
      "Альберт Грибов 14750\n"
     ]
    }
   ],
   "source": [
    "# Задание-2:\n",
    "# Дана ведомость расчета заработной платы (файл \"data/workers\").\n",
    "# Рассчитайте зарплату всех работников, зная что они получат полный оклад,\n",
    "# если отработают норму часов. Если же они отработали меньше нормы,\n",
    "# то их ЗП уменьшается пропорционально, а за заждый час переработки\n",
    "# они получают удвоенную ЗП, пропорциональную норме.\n",
    "# Кол-во часов, которые были отработаны, указаны в файле \"data/hours_of\"\n",
    "def get_table(name):\n",
    "    fi = open(name,'r', encoding='UTF-8')\n",
    "    W = []\n",
    "    s = fi.readline()\n",
    "    s = fi.readline().strip()\n",
    "    while len(s) > 0:\n",
    "        rec = list(filter(None, s.split(' ')))\n",
    "        W.append(rec)\n",
    "        s = fi.readline().strip()\n",
    "    fi.close()\n",
    "    return W\n",
    "\n",
    "\n",
    "def pay(h,hw,p):\n",
    "    ret = p*(h/float(hw))\n",
    "    if h > hw: ret += p*(h/float(hw) - 1)\n",
    "    return ret\n",
    "\n",
    "W = get_table('data//workers.txt')\n",
    "H = get_table('data//hours_of.txt')\n",
    "for eh in H:\n",
    "    h1,h2,d = eh[0],eh[1],int(eh[2])\n",
    "    for ew in W:\n",
    "        if ew[0] == h1 and ew[1] == h2:\n",
    "            ew.append(d)\n",
    "            ew.append(pay(d, int(ew[4]), int(ew[2]) ))\n",
    "            break\n",
    "            \n",
    "for ew in W: \n",
    "    print(\"%s %s %d\" % (ew[0],ew[1],ew[6]))        \n",
    "            "
   ]
  },
  {
   "cell_type": "code",
   "execution_count": 62,
   "metadata": {},
   "outputs": [],
   "source": [
    "# Задание-3:\n",
    "# Дан файл (\"data/fruits\") со списком фруктов.\n",
    "# Записать в новые файлы все фрукты, начинающиеся с определенной буквы.\n",
    "# Т.е. в одном файле будут все фрукты на букву “А”, во втором на “Б” и т.д.\n",
    "# Файлы назвать соответственно.\n",
    "# Пример имен файлов: fruits_А, fruits_Б, fruits_В ….\n",
    "# Важно! Обратите внимание, что нет фруктов, начинающихся с некоторых букв.\n",
    "# Напишите универсальный код, который будет работать с любым списком фруктов\n",
    "# и распределять по файлам в зависимости от первых букв, имеющихся в списке фруктов.\n",
    "def f1(fName,nList):\n",
    "    fi = open(fName,'r',encoding='UTF-8')\n",
    "    S = fi.readlines()\n",
    "    fi.close()\n",
    "    S.pop(0)  # в первой строке файла какой-то невидимый символ, пришлось первую строку пропускать...\n",
    "    for s in S:   \n",
    "        s=s.strip()\n",
    "        if len(s)>0:\n",
    "            i = ord(s[0].upper()) - 1040\n",
    "            nList[i].append(s)\n",
    "    return nList\n",
    "\n",
    "\n",
    "def f2(nList):\n",
    "    for i in range(len(nList)):\n",
    "        yield nList[i],chr(1040+i),len(nList[i])\n",
    "        \n",
    "nName = []\n",
    "for i in range(33): nName.append([])\n",
    "name = f1('data//fruits.txt', nName)\n",
    "for e,L,sz in f2(nName):\n",
    "    if sz>0:\n",
    "        fo =open('fruits_'+L,'wt')\n",
    "        for w in e: fo.write(w+'\\n')\n",
    "        fo.close()"
   ]
  },
  {
   "cell_type": "code",
   "execution_count": 69,
   "metadata": {},
   "outputs": [
    {
     "name": "stdout",
     "output_type": "stream",
     "text": [
      "[1, 2, 3]\n"
     ]
    }
   ],
   "source": [
    "print(list(filter(None,[1,2,3,0,0,0])))"
   ]
  }
 ],
 "metadata": {
  "kernelspec": {
   "display_name": "Python 3",
   "language": "python",
   "name": "python3"
  },
  "language_info": {
   "codemirror_mode": {
    "name": "ipython",
    "version": 3
   },
   "file_extension": ".py",
   "mimetype": "text/x-python",
   "name": "python",
   "nbconvert_exporter": "python",
   "pygments_lexer": "ipython3",
   "version": "3.6.5"
  }
 },
 "nbformat": 4,
 "nbformat_minor": 2
}
