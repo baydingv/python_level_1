{
 "cells": [
  {
   "cell_type": "code",
   "execution_count": 9,
   "metadata": {},
   "outputs": [
    {
     "name": "stdout",
     "output_type": "stream",
     "text": [
      "Петр Алексеев 120 18857\n",
      "Матвей Бурин 160 47600\n",
      "Василий Сидоров 122 15250\n",
      "Альберт Грибов 118 14750\n",
      "Василий Иванов 180 25200\n",
      "Петр Дурин 80 10000\n"
     ]
    }
   ],
   "source": [
    "# Задание-1: Решите задачу (дублированную ниже):\n",
    "\n",
    "# Дана ведомость расчета заработной платы (файл \"data/workers\").\n",
    "# Рассчитайте зарплату всех работников, зная что они получат полный оклад,\n",
    "# если отработают норму часов. Если же они отработали меньше нормы,\n",
    "# то их ЗП уменьшается пропорционально, а за заждый час переработки они получают\n",
    "# удвоенную ЗП, пропорциональную норме.\n",
    "# Кол-во часов, которые были отработаны, указаны в файле \"data/hours_of\"\n",
    "\n",
    "# С использованием классов.\n",
    "# Реализуйте классы сотрудников так, чтобы на вход функции-конструктора\n",
    "# каждый работник получал строку из файла\n",
    "class Worker:\n",
    "    def __init__(self,record):\n",
    "        lst = (record.strip()).split()\n",
    "        self.Nm,self.Sn,self.Py,self.Jb,self.Hr = lst[0],lst[1],int(lst[2]),lst[3],int(lst[4])\n",
    "    def get_income(self,hrs):\n",
    "        ret = hrs*self.Py/self.Hr\n",
    "        if hrs>self.Hr: ret += (hrs-self.Hr)*self.Py/self.Hr\n",
    "        return ret\n",
    "    def am_i(self,Nm,Sn):\n",
    "        ret = False\n",
    "        if Nm==self.Nm and Sn==self.Sn: ret = True\n",
    "        return ret\n",
    "\n",
    "# считывание данных по рабочим и инициализация объектов-рабочих\n",
    "fi = open('data/workers.txt','r', encoding='UTF-8')\n",
    "s = fi.readline()\n",
    "TW,M = fi.readlines(),[]\n",
    "for e in TW:\n",
    "    M.append(Worker(e))\n",
    "fi.close()\n",
    "\n",
    "# считывание данных по отработке\n",
    "fi = open('data/hours_of.txt','r', encoding='UTF-8')\n",
    "s = fi.readline()\n",
    "TH = fi.readlines()\n",
    "fi.close()\n",
    "\n",
    "# проход по ведомости с распечатыванием имени, отработки и зарплаты\n",
    "for h in TH:\n",
    "    lst = (h.strip()).split()\n",
    "    Nm,Sn,Hr = lst[0],lst[1],int(lst[2])\n",
    "    for m in M:\n",
    "        if m.am_i(Nm,Sn):\n",
    "            so = '%s %s %d %d' % (Nm,Sn,Hr, m.get_income(Hr)); print(so)\n",
    "            break"
   ]
  }
 ],
 "metadata": {
  "kernelspec": {
   "display_name": "Python 3",
   "language": "python",
   "name": "python3"
  },
  "language_info": {
   "codemirror_mode": {
    "name": "ipython",
    "version": 3
   },
   "file_extension": ".py",
   "mimetype": "text/x-python",
   "name": "python",
   "nbconvert_exporter": "python",
   "pygments_lexer": "ipython3",
   "version": "3.6.5"
  }
 },
 "nbformat": 4,
 "nbformat_minor": 2
}
