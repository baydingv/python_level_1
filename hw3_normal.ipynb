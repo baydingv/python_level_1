{
 "cells": [
  {
   "cell_type": "code",
   "execution_count": 1,
   "metadata": {},
   "outputs": [
    {
     "name": "stdout",
     "output_type": "stream",
     "text": [
      "[1]\n",
      "[55, 89, 144, 233, 377, 610, 987, 1597, 2584, 4181, 6765, 10946]\n",
      "wrong numbers\n",
      "wrong numbers\n"
     ]
    }
   ],
   "source": [
    "# Задание-1:\n",
    "# Напишите функцию, возвращающую ряд Фибоначчи с n-элемента до m-элемента.\n",
    "# Первыми элементами ряда считать цифры 1 1\n",
    "\n",
    "def fibonacci(n, m):\n",
    "    ret,iA,iB = [],1,1\n",
    "    if n>m or n<1:\n",
    "        ret = 'wrong numbers'\n",
    "    else:\n",
    "        if n == 1:      ret.append(1)\n",
    "        if n <= 2 <= m: ret.append(1)\n",
    "        for i in range(3, m+1):\n",
    "            iC = iA + iB\n",
    "            if n <= i <= m: ret.append(iC)\n",
    "            iA,iB = iB,iC\n",
    "    return ret\n",
    "    \n",
    "print(fibonacci(1,1))\n",
    "print(fibonacci(10,21))\n",
    "print(fibonacci(-1,1))\n",
    "print(fibonacci(11,5))\n",
    "\n"
   ]
  },
  {
   "cell_type": "code",
   "execution_count": 7,
   "metadata": {},
   "outputs": [
    {
     "name": "stdout",
     "output_type": "stream",
     "text": [
      "[-12, -11, 0, 2, 2.5, 4, 4, 10, 20]\n",
      "[-1, -1, -1, 1, 1, 1, 1, 2, 10]\n"
     ]
    }
   ],
   "source": [
    "# Задача-2:\n",
    "# Напишите функцию, сортирующую принимаемый список по возрастанию.\n",
    "# Для сортировки используйте любой алгоритм (например пузырьковый).\n",
    "# Для решения данной задачи нельзя использовать встроенную функцию и метод sort()\n",
    "def sort_to_max(origin_list):\n",
    "    sz = len(origin_list)\n",
    "    for iLast in range(sz,0,-1):\n",
    "        for i in range(iLast-1):\n",
    "            if origin_list[i] > origin_list[i+1]:\n",
    "                origin_list[i],origin_list[i+1] = origin_list[i+1],origin_list[i]\n",
    "    return origin_list\n",
    "\n",
    "print(sort_to_max([2, 10, -12, 2.5, 20, -11, 4, 4, 0]))\n",
    "print(sort_to_max([-1, 1, -1, 1, 2, -1, 1, 1, 10]))"
   ]
  },
  {
   "cell_type": "code",
   "execution_count": 11,
   "metadata": {},
   "outputs": [
    {
     "name": "stdout",
     "output_type": "stream",
     "text": [
      "[[0], 1, 33, 34]\n",
      "[[], 33]\n"
     ]
    }
   ],
   "source": [
    "# Задача-3:\n",
    "# Напишите собственную реализацию стандартной функции filter.\n",
    "# Разумеется, внутри нельзя использовать саму функцию filter.\n",
    "def my_filter(my_func, lst): \n",
    "    if my_func == None: my_func =lambda x:x\n",
    "    ret = []\n",
    "    for i in lst:\n",
    "        if my_func(i): ret.append(i)\n",
    "    return ret\n",
    "\n",
    "def kukureku(elm):\n",
    "    if elm == [] or elm == 33: return True\n",
    "    return False\n",
    "\n",
    "\n",
    "print(my_filter(None, [0,[0],0,None,1,[],33,34]))\n",
    "print(my_filter(kukureku, [0,[0],0,None,1,[],33,34]))"
   ]
  },
  {
   "cell_type": "code",
   "execution_count": 14,
   "metadata": {},
   "outputs": [
    {
     "name": "stdout",
     "output_type": "stream",
     "text": [
      "True\n",
      "False\n"
     ]
    }
   ],
   "source": [
    "# Задача-4:\n",
    "# Даны четыре точки А1(х1, у1), А2(x2 ,у2), А3(x3 , у3), А4(х4, у4).\n",
    "# Определить, будут ли они вершинами параллелограмма.\n",
    "def is_parallelogramm(P1,P2,P3,P4):\n",
    "    mv = lambda C: [abs(C[1][0]-C[0][0]),abs(C[1][1]-C[0][1])]\n",
    "    ret = False\n",
    "    C1=[P1,P2]; C2=[P3,P4]\n",
    "    if mv(C1) == mv(C2): ret = True\n",
    "    C1=[P1,P3]; C2=[P2,P4]\n",
    "    if mv(C1) == mv(C2): ret = True\n",
    "    C1=[P1,P4]; C2=[P3,P2]\n",
    "    if mv(C1) == mv(C2): ret = True\n",
    "    return ret\n",
    "\n",
    "print(is_parallelogramm([0,0],[20,10],[15,0],[5,10]))\n",
    "print(is_parallelogramm([0,0],[0,0],[15,0],[5,10]))"
   ]
  }
 ],
 "metadata": {
  "kernelspec": {
   "display_name": "Python 3",
   "language": "python",
   "name": "python3"
  },
  "language_info": {
   "codemirror_mode": {
    "name": "ipython",
    "version": 3
   },
   "file_extension": ".py",
   "mimetype": "text/x-python",
   "name": "python",
   "nbconvert_exporter": "python",
   "pygments_lexer": "ipython3",
   "version": "3.6.5"
  }
 },
 "nbformat": 4,
 "nbformat_minor": 2
}
