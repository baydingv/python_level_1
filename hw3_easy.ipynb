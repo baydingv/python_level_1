{
 "cells": [
  {
   "cell_type": "code",
   "execution_count": 1,
   "metadata": {},
   "outputs": [
    {
     "name": "stdout",
     "output_type": "stream",
     "text": [
      "2.123500000000\n",
      "2.200000000000\n",
      "3.000000000000\n",
      "30000000000.000000000000\n",
      "-10.000000000000\n",
      "-12.000000000000\n",
      "-12.300000000000\n",
      "-12.350000000000\n",
      "-12.346000000000\n",
      "-12.345700000000\n",
      "-12.345680000000\n",
      "-12.345679000000\n",
      "-12.345678900000\n"
     ]
    }
   ],
   "source": [
    "# Задание-1:\n",
    "# Напишите функцию, округляющую полученное произвольное десятичное число\n",
    "# до кол-ва знаков (кол-во знаков передается вторым аргументом).\n",
    "# Округление должно происходить по математическим правилам (0.6 --> 1, 0.4 --> 0).\n",
    "# Для решения задачи не используйте встроенные функции и функции из модуля math.\n",
    "\n",
    "def my_round(number, ndigits):\n",
    "#!!! Невозможно: \"Для решения задачи не используйте встроенные функции и ...\"\n",
    "    s = '%.12f' % number\n",
    "    sA,sB,n, add = [],[],0, False\n",
    "    for i in s:\n",
    "        if i.isdigit(): \n",
    "            n += 1\n",
    "            if n > ndigits:\n",
    "                sA.append('0')\n",
    "                sB.append('0')\n",
    "                if n == ndigits+1:\n",
    "                    if int(i)>4: add = True\n",
    "            elif n == ndigits:\n",
    "                sA.append(i)\n",
    "                sB.append('1')\n",
    "            else:\n",
    "                sA.append(i)\n",
    "                sB.append('0')\n",
    "    \n",
    "        else: # копируем знак и точку\n",
    "            sA.append(i)\n",
    "            sB.append(i)\n",
    "                      \n",
    "    rA = float(''.join(sA))\n",
    "    rB = float(''.join(sB))\n",
    "    if add: rA += rB\n",
    "    return '%12.12f' % rA\n",
    "\n",
    "print(my_round(2.1234567, 5))\n",
    "print(my_round(2.1999967, 5))\n",
    "print(my_round(2.9999967, 5))\n",
    "\n",
    "print(my_round(29999964747.7, 5))\n",
    "for j in range(1,10):\n",
    "    print(my_round(-12.3456789432999967, j))"
   ]
  },
  {
   "cell_type": "code",
   "execution_count": 2,
   "metadata": {},
   "outputs": [
    {
     "name": "stdout",
     "output_type": "stream",
     "text": [
      "lucky  number!:-)\n",
      "simple number :-|\n",
      "lucky  number!:-)\n",
      "simple number :-|\n"
     ]
    }
   ],
   "source": [
    "# Задание-2:\n",
    "# Дан шестизначный номер билета. Определить, является ли билет счастливым.\n",
    "# Решение реализовать в виде функции.\n",
    "# Билет считается счастливым, если сумма его первых и последних цифр равны.\n",
    "# !!!P.S.: функция не должна НИЧЕГО print'ить\n",
    "\n",
    "def lucky_ticket(ticket_number):\n",
    "# в корректном номере должно быть 6 цифр, если входной int имеет меньше заполняем спереди нулями \n",
    "    if 1000000 > ticket_number > 0:\n",
    "        ret ='simple number :-|'\n",
    "        s = '%6.6d' % ticket_number\n",
    "        if int(s[0])+int(s[1])+int(s[2]) == int(s[3])+int(s[4])+int(s[5]):\n",
    "            ret ='lucky  number!:-)'\n",
    "    else:\n",
    "        ret ='Wrong number! :-('\n",
    "    return ret\n",
    " \n",
    "\n",
    "print(lucky_ticket(123006))\n",
    "print(lucky_ticket(12321))\n",
    "print(lucky_ticket(436751))\n",
    "print(lucky_ticket(101))"
   ]
  }
 ],
 "metadata": {
  "kernelspec": {
   "display_name": "Python 3",
   "language": "python",
   "name": "python3"
  },
  "language_info": {
   "codemirror_mode": {
    "name": "ipython",
    "version": 3
   },
   "file_extension": ".py",
   "mimetype": "text/x-python",
   "name": "python",
   "nbconvert_exporter": "python",
   "pygments_lexer": "ipython3",
   "version": "3.6.5"
  }
 },
 "nbformat": 4,
 "nbformat_minor": 2
}
